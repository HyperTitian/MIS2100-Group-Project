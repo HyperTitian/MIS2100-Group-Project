{
 "cells": [
  {
   "cell_type": "code",
   "execution_count": 12,
   "metadata": {},
   "outputs": [],
   "source": [
    "import yfinance as yf"
   ]
  },
  {
   "cell_type": "code",
   "execution_count": 13,
   "metadata": {},
   "outputs": [],
   "source": [
    "#mystockanalyzer = StockInfo([\"TSLA\", \"TGT\"],[0.5,0.5]) \n",
    "#Above is the code used to input a list of stocks and their weights.\n",
    "\n",
    "#mystockinfo.calculatePortfolioBeta()\n",
    "#Above is the code used to return portfolio beta.\n",
    "\n",
    "#mystockinfo.getTickerInfo('TSLA')\n",
    "#Above is the code used to return ticker info from Yahoo Finance for an individual ticker.\n",
    "\n",
    "#mystockinfo.getTickerInfo('TSLA').info['beta']\n",
    "#Above is the code used to access the beta for an individual stock.\n",
    "\n",
    "class StockInfo():\n",
    "    def __init__(self, listOfStocks = [], listOfWeights = []):\n",
    "        self._stocks = listOfStocks  \n",
    "        self._portfolioWeights = listOfWeights\n",
    "        self._yahoodata = yf.Tickers(self._stocks)\n",
    "            \n",
    "    def getTickerInfo(self, symbol):\n",
    "        return self._yahoodata.tickers[symbol]\n",
    "    \n",
    "    def calculatePortfolioBeta(self):\n",
    "        #loop over all of the tickers inside self._yahoodata\n",
    "        portfoliobeta = 0\n",
    "        for i in range(len(self._stocks)):\n",
    "            stockbeta = self._yahoodata.tickers[self._stocks[i]].info['beta']\n",
    "            portfoliobeta = portfoliobeta + (stockbeta*self._portfolioWeights[i])\n",
    "        return portfoliobeta            "
   ]
  },
  {
   "cell_type": "code",
   "execution_count": 14,
   "metadata": {},
   "outputs": [
    {
     "name": "stdout",
     "output_type": "stream",
     "text": [
      "2.010479\n"
     ]
    },
    {
     "data": {
      "text/plain": [
       "1.5124095"
      ]
     },
     "execution_count": 14,
     "metadata": {},
     "output_type": "execute_result"
    }
   ],
   "source": [
    "#test\n",
    "mystockinfo = StockInfo(['TSLA','TGT'],[0.5,0.5])\n",
    "print(mystockinfo.getTickerInfo('TSLA').info['beta'])\n",
    "mystockinfo.calculatePortfolioBeta()"
   ]
  },
  {
   "cell_type": "code",
   "execution_count": null,
   "metadata": {},
   "outputs": [],
   "source": []
  }
 ],
 "metadata": {
  "kernelspec": {
   "display_name": "Python 3",
   "language": "python",
   "name": "python3"
  },
  "language_info": {
   "codemirror_mode": {
    "name": "ipython",
    "version": 3
   },
   "file_extension": ".py",
   "mimetype": "text/x-python",
   "name": "python",
   "nbconvert_exporter": "python",
   "pygments_lexer": "ipython3",
   "version": "3.8.5"
  }
 },
 "nbformat": 4,
 "nbformat_minor": 4
}
