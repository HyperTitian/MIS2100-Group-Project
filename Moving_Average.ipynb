{
 "cells": [
  {
   "cell_type": "code",
   "execution_count": 10,
   "metadata": {},
   "outputs": [],
   "source": [
    "import pandas as pd\n",
    "import matplotlib.pyplot as plt\n",
    "import numpy as np\n",
    "import pandas_datareader as reader\n",
    "from datetime import date"
   ]
  },
  {
   "cell_type": "code",
   "execution_count": 11,
   "metadata": {},
   "outputs": [
    {
     "name": "stdout",
     "output_type": "stream",
     "text": [
      "Enter desired ticker: TGT\n"
     ]
    }
   ],
   "source": [
    "ticker = input(\"Enter desired ticker: \")\n",
    "#print(ticker)"
   ]
  },
  {
   "cell_type": "code",
   "execution_count": 12,
   "metadata": {},
   "outputs": [
    {
     "data": {
      "text/plain": [
       "Date\n",
       "2021-04-06    182.230101\n",
       "2021-04-07    182.693901\n",
       "2021-04-08    183.131601\n",
       "2021-04-09    183.589901\n",
       "2021-04-12    184.012101\n",
       "2021-04-13    184.409701\n",
       "2021-04-14    184.836401\n",
       "2021-04-15    185.225501\n",
       "2021-04-16    185.597301\n",
       "2021-04-19    185.969401\n",
       "Name: Close, dtype: float64"
      ]
     },
     "execution_count": 12,
     "metadata": {},
     "output_type": "execute_result"
    }
   ],
   "source": [
    "today = date.today()\n",
    "Data = reader.DataReader(ticker, start=\"2020-1-1\", end=today, data_source=\"yahoo\")\n",
    "long_rolling = Data.Close.rolling(100).mean()\n",
    "long_rolling.tail(10)"
   ]
  },
  {
   "cell_type": "code",
   "execution_count": null,
   "metadata": {},
   "outputs": [],
   "source": []
  }
 ],
 "metadata": {
  "kernelspec": {
   "display_name": "Python 3",
   "language": "python",
   "name": "python3"
  },
  "language_info": {
   "codemirror_mode": {
    "name": "ipython",
    "version": 3
   },
   "file_extension": ".py",
   "mimetype": "text/x-python",
   "name": "python",
   "nbconvert_exporter": "python",
   "pygments_lexer": "ipython3",
   "version": "3.8.5"
  }
 },
 "nbformat": 4,
 "nbformat_minor": 4
}
